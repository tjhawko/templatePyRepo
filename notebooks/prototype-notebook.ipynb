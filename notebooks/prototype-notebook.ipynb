{
 "cells": [
  {
   "cell_type": "code",
   "execution_count": null,
   "metadata": {},
   "outputs": [],
   "source": [
    "#prototype-notebook.ipynb\n",
    "\n",
    "# This notebook should be a bit of a sandbox for playing around. If you want to try something that you're\n",
    "# not sure how it fits into the narrative of your project yet, do it here."
   ]
  }
 ],
 "metadata": {
  "language_info": {
   "name": "python"
  },
  "orig_nbformat": 4
 },
 "nbformat": 4,
 "nbformat_minor": 2
}
