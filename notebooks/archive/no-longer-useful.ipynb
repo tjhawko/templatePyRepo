{
 "cells": [
  {
   "cell_type": "code",
   "execution_count": null,
   "metadata": {},
   "outputs": [],
   "source": [
    "# no-longer-useful.ipynb (example notebook, to be deleted)\n",
    "\n",
    "# This folder is for iPython notebooks that have been developed for the project,\n",
    "# but excluded from your final solution.\n",
    "\n",
    "# Don't delete them! You never know when they might be useful. :)"
   ]
  }
 ],
 "metadata": {
  "language_info": {
   "name": "python"
  },
  "orig_nbformat": 4
 },
 "nbformat": 4,
 "nbformat_minor": 2
}
