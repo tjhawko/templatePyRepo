{
 "cells": [
  {
   "cell_type": "code",
   "execution_count": null,
   "metadata": {},
   "outputs": [],
   "source": [
    "#01-first-logical-nb.ipynb\n",
    "\n",
    "# When creating your project, try and break down the natural narrative into logical chunks\n",
    "# and put each chunk in its own notebook. Better to have many short notebooks than\n",
    "# one large notebook."
   ]
  }
 ],
 "metadata": {
  "language_info": {
   "name": "python"
  },
  "orig_nbformat": 4
 },
 "nbformat": 4,
 "nbformat_minor": 2
}
